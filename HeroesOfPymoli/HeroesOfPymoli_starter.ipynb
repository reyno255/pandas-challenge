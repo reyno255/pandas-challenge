{
 "cells": [
  {
   "cell_type": "markdown",
   "metadata": {},
   "source": [
    "### Note\n",
    "* Instructions have been included for each segment. You do not have to follow them exactly, but they are included to help you think through the steps."
   ]
  },
  {
   "cell_type": "code",
   "execution_count": null,
   "metadata": {},
   "outputs": [],
   "source": [
    "# Dependencies and Setup\n",
    "import pandas as pd\n",
    "import numpy as np\n",
    "\n",
    "# File to Load (Remember to Change These)\n",
    "file_to_load = \"Resources/purchase_data.csv\"\n",
    "\n",
    "# Read Purchasing File and store into Pandas data frame\n",
    "purchase_data = pd.read_csv(file_to_load)\n",
    "purchase_data\n"
   ]
  },
  {
   "cell_type": "markdown",
   "metadata": {},
   "source": [
    "## Player Count"
   ]
  },
  {
   "cell_type": "markdown",
   "metadata": {},
   "source": [
    "* Display the total number of players\n"
   ]
  },
  {
   "cell_type": "code",
   "execution_count": null,
   "metadata": {},
   "outputs": [],
   "source": [
    "player_count_list = [purchase_data.SN.nunique()]\n",
    "stats_df = pd.DataFrame (player_count_list, columns=['Total Number of Players'])\n",
    "stats_df"
   ]
  },
  {
   "cell_type": "markdown",
   "metadata": {},
   "source": [
    "## Purchasing Analysis (Total)"
   ]
  },
  {
   "cell_type": "markdown",
   "metadata": {},
   "source": [
    "* Run basic calculations to obtain number of unique items, average price, etc.\n",
    "\n",
    "\n",
    "* Create a summary data frame to hold the results\n",
    "\n",
    "\n",
    "* Optional: give the displayed data cleaner formatting\n",
    "\n",
    "\n",
    "* Display the summary data frame\n"
   ]
  },
  {
   "cell_type": "code",
   "execution_count": null,
   "metadata": {},
   "outputs": [],
   "source": [
    "unique_items = len(pd.unique(purchase_data['Item ID']))\n",
    "avg_px = purchase_data['Price'].mean()\n",
    "purchase_count = purchase_data['Purchase ID'].count()\n",
    "purchase_revenue = purchase_data['Price'].sum()\n",
    "#format_dict = {'Number of Unique Items':'{0:,.0f}','Number of Purchases':'{0:,.0f}','Average Price':'${0:,.2f}','Total Revenue':'${0,.2f}'}\n",
    "purchase_stats_series = {'Number of Unique Items': [unique_items],\n",
    "                       'Average Price': [avg_px],\n",
    "                       'Number of Purchases': [purchase_count],\n",
    "                       'Total Revenue': [purchase_revenue]} \n",
    "\n",
    "#build Dataframe\n",
    "purchase_stats_df = pd.DataFrame(purchase_stats_series ,columns= ['Number of Unique Items',\n",
    "                                                    'Average Price',\n",
    "                                                    'Number of Purchases',\n",
    "                                                    'Total Revenue'])\n",
    "\n",
    "#add Dataframe formatting\n",
    "purchase_stats_df['Total Revenue'] = purchase_stats_df['Total Revenue'].map('${:,.2f}'.format)\n",
    "purchase_stats_df['Average Price'] = purchase_stats_df['Average Price'].map('${:,.2f}'.format)\n",
    "\n",
    "purchase_stats_df\n",
    "#purchase_stats_df.style.format(format_dict)"
   ]
  },
  {
   "cell_type": "markdown",
   "metadata": {},
   "source": [
    "## Gender Demographics"
   ]
  },
  {
   "cell_type": "markdown",
   "metadata": {},
   "source": [
    "* Percentage and Count of Male Players\n",
    "\n",
    "\n",
    "* Percentage and Count of Female Players\n",
    "\n",
    "\n",
    "* Percentage and Count of Other / Non-Disclosed\n",
    "\n",
    "\n"
   ]
  },
  {
   "cell_type": "code",
   "execution_count": null,
   "metadata": {},
   "outputs": [],
   "source": [
    "gender_groupby = purchase_data.groupby('Gender').count()\n",
    "sn_groupby = purchase_data.groupby('Gender')['SN'].nunique()\n",
    "gender_perc = (100 * sn_groupby/player_count_list).round(2).astype(str) + '%'\n",
    "\n",
    "#build Dataframe\n",
    "summary_perc_df = pd.DataFrame({'Total Count': sn_groupby,'Percentage of Players':gender_perc})\n",
    "\n",
    "summary_perc_df\n"
   ]
  },
  {
   "cell_type": "markdown",
   "metadata": {},
   "source": [
    "\n",
    "## Purchasing Analysis (Gender)"
   ]
  },
  {
   "cell_type": "markdown",
   "metadata": {},
   "source": [
    "* Run basic calculations to obtain purchase count, avg. purchase price, avg. purchase total per person etc. by gender\n",
    "\n",
    "\n",
    "\n",
    "\n",
    "* Create a summary data frame to hold the results\n",
    "\n",
    "\n",
    "* Optional: give the displayed data cleaner formatting\n",
    "\n",
    "\n",
    "* Display the summary data frame"
   ]
  },
  {
   "cell_type": "code",
   "execution_count": null,
   "metadata": {},
   "outputs": [],
   "source": [
    "count_purchases = purchase_data.groupby('Gender').count()\n",
    "count_purchases_byGender = count_purchases['Purchase ID']\n",
    "mean_px = purchase_data.groupby('Gender').mean()\n",
    "avg_px_byGender = mean_px['Price']\n",
    "sum_purchases = purchase_data.groupby('Gender').sum()\n",
    "sum_purchases_byGender = sum_purchases['Price'].round(2)\n",
    "avg_total_byPerson = sum_purchases_byGender / sn_groupby\n",
    "\n",
    "#build dataframe\n",
    "summary_df = pd.DataFrame({'Purchase Count':count_purchases_byGender,\n",
    "                           'Average Purchase Price': avg_px_byGender,\n",
    "                           'Total Purchase Value':sum_purchases_byGender,\n",
    "                           'Avg Total Purchase per Person': avg_total_byPerson\n",
    "                           })\n",
    "#add Dataframe formatting\n",
    "summary_df['Average Purchase Price'] = summary_df['Average Purchase Price'].map('${:,.2f}'.format)\n",
    "summary_df['Total Purchase Value'] = summary_df['Total Purchase Value'].map('${:,.2f}'.format)\n",
    "summary_df['Avg Total Purchase per Person'] = summary_df['Avg Total Purchase per Person'].map('${:,.2f}'.format)\n",
    "\n",
    "summary_df"
   ]
  },
  {
   "cell_type": "markdown",
   "metadata": {},
   "source": [
    "## Age Demographics"
   ]
  },
  {
   "cell_type": "markdown",
   "metadata": {},
   "source": [
    "* Establish bins for ages\n",
    "\n",
    "\n",
    "* Categorize the existing players using the age bins. Hint: use pd.cut()\n",
    "\n",
    "\n",
    "* Calculate the numbers and percentages by age group\n",
    "\n",
    "\n",
    "* Create a summary data frame to hold the results\n",
    "\n",
    "\n",
    "* Optional: round the percentage column to two decimal points\n",
    "\n",
    "\n",
    "* Display Age Demographics Table\n"
   ]
  },
  {
   "cell_type": "code",
   "execution_count": null,
   "metadata": {},
   "outputs": [],
   "source": [
    "#Build bins.  Define bin ranges and cut points.\n",
    "bin_labels = ['<10','10-14','15-19','20-24','25-29','30-34','35-39','40+']\n",
    "cuts = [0,9,14,19,24,29,34,39,100]\n",
    "purchase_data['Age Group'] = pd.cut(purchase_data['Age'],cuts,labels=bin_labels)\n",
    "total_count_byAgeGrp = purchase_data.groupby('Age Group')['SN'].nunique()\n",
    "perc_byAgeGrp = (100 * total_count_byAgeGrp / player_count_list).round(2).astype(str) + '%'\n",
    "\n",
    "#Build Dataframe\n",
    "summary_df_byAgeGrp = pd.DataFrame({'Total Count':total_count_byAgeGrp,\n",
    "                                    \"Percentage of Players\":perc_byAgeGrp})\n",
    "summary_df_byAgeGrp"
   ]
  },
  {
   "cell_type": "markdown",
   "metadata": {},
   "source": [
    "## Purchasing Analysis (Age)"
   ]
  },
  {
   "cell_type": "markdown",
   "metadata": {},
   "source": [
    "* Bin the purchase_data data frame by age\n",
    "\n",
    "\n",
    "* Run basic calculations to obtain purchase count, avg. purchase price, avg. purchase total per person etc. in the table below\n",
    "\n",
    "\n",
    "* Create a summary data frame to hold the results\n",
    "\n",
    "\n",
    "* Optional: give the displayed data cleaner formatting\n",
    "\n",
    "\n",
    "* Display the summary data frame"
   ]
  },
  {
   "cell_type": "code",
   "execution_count": null,
   "metadata": {
    "scrolled": true
   },
   "outputs": [],
   "source": [
    "purchase_count_byAgeGrp = purchase_data.groupby('Age Group')['Purchase ID'].count()\n",
    "avg_purchasePx_byAgeGrp = purchase_data.groupby('Age Group')['Price'].mean()\n",
    "total_purchasePx_byAgeGrp = purchase_data.groupby('Age Group')['Price'].sum()\n",
    "avg_totalPurchase_byAgeGrp = (total_purchasePx_byAgeGrp / total_count_byAgeGrp)\n",
    "\n",
    "summary_byAgeGrp_df = pd.DataFrame({'Purchase Count':purchase_count_byAgeGrp,\n",
    "                                    'Average Purchase Price':avg_purchasePx_byAgeGrp,\n",
    "                                    'Total Purchase Value':total_purchasePx_byAgeGrp,\n",
    "                                    'Avg Total Purchase per Person':avg_totalPurchase_byAgeGrp})\n",
    "\n",
    "#add Dataframe formatting\n",
    "summary_byAgeGrp_df['Average Purchase Price'] = summary_byAgeGrp_df['Average Purchase Price'].map('${:0,.2f}'.format)\n",
    "summary_byAgeGrp_df['Total Purchase Value'] = summary_byAgeGrp_df['Total Purchase Value'].map('${:0,.2f}'.format)\n",
    "summary_byAgeGrp_df['Avg Total Purchase per Person'] = summary_byAgeGrp_df['Avg Total Purchase per Person'].map('${:0,.2f}'.format)\n",
    "\n",
    "summary_byAgeGrp_df"
   ]
  },
  {
   "cell_type": "markdown",
   "metadata": {},
   "source": [
    "## Top Spenders"
   ]
  },
  {
   "cell_type": "markdown",
   "metadata": {},
   "source": [
    "* Run basic calculations to obtain the results in the table below\n",
    "\n",
    "\n",
    "* Create a summary data frame to hold the results\n",
    "\n",
    "\n",
    "* Sort the total purchase value column in descending order\n",
    "\n",
    "\n",
    "* Optional: give the displayed data cleaner formatting\n",
    "\n",
    "\n",
    "* Display a preview of the summary data frame\n",
    "\n"
   ]
  },
  {
   "cell_type": "code",
   "execution_count": null,
   "metadata": {},
   "outputs": [],
   "source": [
    "#build variables to analyze purchases grouped by users\n",
    "sn_purchasecount = purchase_data.groupby('SN')['Purchase ID'].count()\n",
    "sn_avgPurchasePx = purchase_data.groupby('SN')['Price'].sum()/sn_purchasecount\n",
    "sn_totalPurchaseValue = sn_purchasecount * sn_avgPurchasePx\n",
    "\n",
    "#construct dataframe\n",
    "top_spenders_df = pd.DataFrame({'Purchase Count':sn_purchasecount,\n",
    "                                'Average Purchase Price': sn_avgPurchasePx,\n",
    "                                'Total Purchase Value': sn_totalPurchaseValue})\n",
    "top_spenders_df.sort_values('Total Purchase Value', ascending=False, inplace=True)\n",
    "\n",
    "#add Dataframe formatting\n",
    "top_spenders_df['Average Purchase Price'] = top_spenders_df['Average Purchase Price'].map('${:,.2f}'.format)\n",
    "top_spenders_df['Total Purchase Value'] = top_spenders_df['Total Purchase Value'].map('${:,.2f}'.format)\n",
    "top_spenders_df.head()"
   ]
  },
  {
   "cell_type": "markdown",
   "metadata": {},
   "source": [
    "## Most Popular Items"
   ]
  },
  {
   "cell_type": "markdown",
   "metadata": {},
   "source": [
    "* Retrieve the Item ID, Item Name, and Item Price columns\n",
    "\n",
    "\n",
    "* Group by Item ID and Item Name. Perform calculations to obtain purchase count, average item price, and total purchase value\n",
    "\n",
    "\n",
    "* Create a summary data frame to hold the results\n",
    "\n",
    "\n",
    "* Sort the purchase count column in descending order\n",
    "\n",
    "\n",
    "* Optional: give the displayed data cleaner formatting\n",
    "\n",
    "\n",
    "* Display a preview of the summary data frame\n",
    "\n"
   ]
  },
  {
   "cell_type": "code",
   "execution_count": null,
   "metadata": {},
   "outputs": [],
   "source": [
    "item_df = purchase_data[['Item ID','Item Name','Price']]\n",
    "item_grouped_df = item_df.groupby(['Item ID','Item Name'])\n",
    "item_purchase_count = item_grouped_df.count()\n",
    "item_purchase_avg = item_grouped_df.mean()\n",
    "item_purchase_sum = item_grouped_df.sum()\n",
    "\n",
    "#build DataFrame\n",
    "item_summary_df = pd.DataFrame({'Purchase Count':item_purchase_count['Price'],\n",
    "                                'Item Price':item_purchase_avg['Price'],\n",
    "                                'Total Purchase Value':item_purchase_sum['Price']})\n",
    "\n",
    "#saving to another df for use in next module prior to applying formatting\n",
    "sorted_item_summary_df = pd.DataFrame({\n",
    "                            'Purchase Count':item_purchase_count['Price'],\n",
    "                            'Item Price':item_purchase_avg['Price'],\n",
    "                            'Total Purchase Value':item_purchase_sum['Price']})\n",
    "\n",
    "#add sorting and formatting\n",
    "item_summary_df.sort_values('Purchase Count', ascending=False, inplace=True)\n",
    "item_summary_df['Item Price']=item_summary_df['Item Price'].map('${:0,.2f}'.format)\n",
    "item_summary_df['Total Purchase Value']=item_summary_df['Total Purchase Value'].map('${:0,.2f}'.format)\n",
    "\n",
    "item_summary_df.head()"
   ]
  },
  {
   "cell_type": "markdown",
   "metadata": {},
   "source": [
    "## Most Profitable Items"
   ]
  },
  {
   "cell_type": "markdown",
   "metadata": {},
   "source": [
    "* Sort the above table by total purchase value in descending order\n",
    "\n",
    "\n",
    "* Optional: give the displayed data cleaner formatting\n",
    "\n",
    "\n",
    "* Display a preview of the data frame\n",
    "\n"
   ]
  },
  {
   "cell_type": "code",
   "execution_count": null,
   "metadata": {
    "scrolled": true
   },
   "outputs": [],
   "source": [
    "sorted_item_summary_df.sort_values(['Total Purchase Value'], ascending=False, inplace=True)\n",
    "\n",
    "#add sorting and formatting\n",
    "#sorted_item_summary_df.sort_values('Total Purchase Value', ascending=False, inplace=True)\n",
    "sorted_item_summary_df['Item Price']=sorted_item_summary_df['Item Price'].map('${:0,.2f}'.format)\n",
    "sorted_item_summary_df['Total Purchase Value']=sorted_item_summary_df['Total Purchase Value'].map('${:0,.2f}'.format)\n",
    "\n",
    "sorted_item_summary_df.head()\n"
   ]
  }
 ],
 "metadata": {
  "anaconda-cloud": {},
  "kernel_info": {
   "name": "python3"
  },
  "kernelspec": {
   "display_name": "Python 3",
   "language": "python",
   "name": "python3"
  },
  "language_info": {
   "codemirror_mode": {
    "name": "ipython",
    "version": 3
   },
   "file_extension": ".py",
   "mimetype": "text/x-python",
   "name": "python",
   "nbconvert_exporter": "python",
   "pygments_lexer": "ipython3",
   "version": "3.8.3"
  },
  "latex_envs": {
   "LaTeX_envs_menu_present": true,
   "autoclose": false,
   "autocomplete": true,
   "bibliofile": "biblio.bib",
   "cite_by": "apalike",
   "current_citInitial": 1,
   "eqLabelWithNumbers": true,
   "eqNumInitial": 1,
   "hotkeys": {
    "equation": "Ctrl-E",
    "itemize": "Ctrl-I"
   },
   "labels_anchors": false,
   "latex_user_defs": false,
   "report_style_numbering": false,
   "user_envs_cfg": false
  },
  "nteract": {
   "version": "0.2.0"
  }
 },
 "nbformat": 4,
 "nbformat_minor": 2
}
